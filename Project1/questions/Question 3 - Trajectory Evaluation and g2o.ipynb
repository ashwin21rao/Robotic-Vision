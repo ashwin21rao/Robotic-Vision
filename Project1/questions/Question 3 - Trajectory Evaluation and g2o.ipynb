{
 "cells": [
  {
   "cell_type": "markdown",
   "id": "exposed-little",
   "metadata": {},
   "source": [
    "# Question 3: Trajectory Evaluation and g2o"
   ]
  },
  {
   "cell_type": "markdown",
   "id": "hearing-bachelor",
   "metadata": {},
   "source": [
    "_Refer to the example notebooks for installation instructions_"
   ]
  },
  {
   "cell_type": "markdown",
   "id": "radio-atlantic",
   "metadata": {},
   "source": [
    "# Evo"
   ]
  },
  {
   "cell_type": "markdown",
   "id": "recognized-booking",
   "metadata": {},
   "source": [
    "So you've implemented 2D SLAM, great! Now, what? We need a measure of how good the trajectory is. The error/loss used earlier doesn't tell us much about how the trajectory differs from the ground truth. Here, we try to do just this - compute error metrics. Rather than computing these from scratch, we will just Evo - https://github.com/MichaelGrupp/evo/."
   ]
  },
  {
   "cell_type": "markdown",
   "id": "amino-command",
   "metadata": {},
   "source": [
    "Look at the absolute pose error (APE) and relative pose error (RPE). What do they capture and how are they calculated (descriptive answer)? How do these metrics differ in methodology? Can we determine if the error is more along the x/y axis?\n",
    "\n",
    "Answer the above questions and report errors for the obtained trajectory."
   ]
  },
  {
   "cell_type": "code",
   "execution_count": 19,
   "id": "typical-brief",
   "metadata": {},
   "outputs": [
    {
     "name": "stdout",
     "output_type": "stream",
     "text": [
      "Figure(640x480)\n",
      "saved '../results/gt.kitti' from '../results/gt.g2o'\n",
      "Figure(640x480)\n",
      "saved '../results/opt-poses.kitti' from '../results/opt-poses.g2o'\n",
      "APE w.r.t. translation part (m)\n",
      "(not aligned)\n",
      "\n",
      "       max\t13.099711\n",
      "      mean\t9.448621\n",
      "    median\t11.783399\n",
      "       min\t0.434456\n",
      "      rmse\t10.191792\n",
      "       sse\t12464.714187\n",
      "       std\t3.820494\n",
      "\n",
      "\u001b[0mRPE w.r.t. translation part (m)\n",
      "for delta = 1 (frames) using consecutive pairs\n",
      "(not aligned)\n",
      "\n",
      "       max\t3.030493\n",
      "      mean\t0.770000\n",
      "    median\t0.631140\n",
      "       min\t0.025292\n",
      "      rmse\t0.949114\n",
      "       sse\t107.197370\n",
      "       std\t0.554903\n",
      "\n",
      "\u001b[0m--------------------------------------------------------------------------------\n",
      "Loaded 120 poses from: ../results/gt.kitti\n",
      "Loaded 120 poses from: ../results/opt-poses.kitti\n",
      "--------------------------------------------------------------------------------\n",
      "name:\tgt\n",
      "infos:\n",
      "\tnr. of poses\t120\n",
      "\tpath length (m)\t52.976517997999295\n",
      "\tpos_end (m)\t[-2.8 -4.5  0. ]\n",
      "\tpos_start (m)\t[-8.  5.  0.]\n",
      "--------------------------------------------------------------------------------\n",
      "name:\topt-poses\n",
      "infos:\n",
      "\tnr. of poses\t120\n",
      "\tpath length (m)\t67.96215067686224\n",
      "\tpos_end (m)\t[-6.65808392  7.99520922  0.        ]\n",
      "\tpos_start (m)\t[-0.04700932  7.99316788  0.        ]\n",
      "\u001b[0m"
     ]
    }
   ],
   "source": [
    "#! pip install evo --upgrade --no-binary evo\n",
    "\n",
    "! cp '../data/gt.txt' '../results/gt.g2o'\n",
    "! python3 '../misc/g2o_to_kitti.py' '../results/gt.g2o' '../results/gt.kitti'\n",
    "! python3 '../misc/g2o_to_kitti.py' '../results/opt-poses.g2o' '../results/opt-poses.kitti'\n",
    "\n",
    "! evo_ape kitti ../results/gt.kitti ../results/opt-poses.kitti\n",
    "! evo_rpe kitti ../results/gt.kitti ../results/opt-poses.kitti\n",
    "! evo_traj kitti ../results/gt.kitti ../results/opt-poses.kitti -v --plot --plot_mode xy"
   ]
  },
  {
   "cell_type": "markdown",
   "id": "773f5da9",
   "metadata": {},
   "source": [
    "## Theory\n",
    "\n",
    "### APE\n",
    "APE (Absolute Pose Error) is a metric for determining the global consistency of a SLAM trajectory.\n",
    "\n",
    "Computation: \n",
    "\n",
    "It returns the difference between the estimated trajectory points and the ground-truth trajectory points.\n",
    "\n",
    "Translation Part - This uses the translation part of $E_i$: <br />\n",
    "$ APE_i = \\| \\mathrm{trans}(E_i) \\| $ <br />\n",
    "This is equivalent to the point distance between the pose pairs points.\n",
    "\n",
    "It is easy to compare as it returns a single number but is sensitive to the time when the error is estimated, i.e, it is generally higher for initial iterations and lower for consequent iterations.\n",
    " \n",
    "### RPE\n",
    "RPE (Relative Pose Error) is a metric for determining the local consistency of a SLAM trajectory although it can also be sort of extended for the global case.\n",
    "\n",
    "Computation:  \n",
    "1. Select all sub-trajectories of length d.\n",
    "2. Align each sub-trajectory using the respective 1st states.\n",
    "3. Determine the error of each sub-end trajectory's state. For each sub-trajectory, a relative error is calculated in a similar way as the absolute error.\n",
    "4. Can take the average, median, etc. of the above errors to obtain a single error value.\n",
    "\n",
    "The relative error can be used for both, short and long term accuracy, by varying the length d of the selected sub-trajectories. Another advantage is that by selecting the states according to different criteria, RPE can have different meanings. For example, a common practice is to select pairs of states that are spaced by a certain distance along the trajectory. The issue with RPE is that calculations are relatively difficult and expensive and ranking/understanding the estimation accuracy is harder.\n",
    "\n",
    "We can identify whether the error is larger along the x/y axis by independently calculating the APE/RPE of the trajectory acquired by extending the project along the x/y axis and comparing the results."
   ]
  },
  {
   "cell_type": "markdown",
   "id": "surrounded-anderson",
   "metadata": {},
   "source": [
    "If you're interested, play around with this tool and add any other plots that you think might be relevant/interesting."
   ]
  },
  {
   "cell_type": "markdown",
   "id": "exceptional-charity",
   "metadata": {},
   "source": [
    "# g2o"
   ]
  },
  {
   "cell_type": "markdown",
   "id": "presidential-hayes",
   "metadata": {},
   "source": [
    "Install g2o as mentioned in `examples/g2o.ipynb` and optimise `edges.txt`, the file you used earlier. Also use `g2o_viewer` and optimize `intel` (a trajectory in the Intel research lab) and `sphere`. They should look something like:\n",
    "\n",
    "\n",
    "<table><tr>\n",
    "<td> <img src=\"../misc/intel.jpg\" alt=\"Drawing\" style=\"width: 250px;\"/> </td>\n",
    "<td> <img src=\"../misc/sphere.jpg\" alt=\"Drawing\" style=\"width: 250px;\"/> </td>\n",
    "</tr></table>"
   ]
  },
  {
   "cell_type": "markdown",
   "id": "amino-football",
   "metadata": {},
   "source": [
    "Write briefly about your observations and try out few options in the GUI. What do they do, how do they perform?"
   ]
  },
  {
   "cell_type": "code",
   "execution_count": 8,
   "id": "interstate-arizona",
   "metadata": {},
   "outputs": [
    {
     "name": "stdout",
     "output_type": "stream",
     "text": [
      "# Using EigenSparseCholesky poseDim -1 landMarkDim -1 blockordering 1\r\n",
      "Read input from ../data/edges.g2o\r\n",
      "virtual bool g2o::OptimizableGraph::load(std::istream&): Unable to find vertices for edge EDGE_SE2 at line 2 IDs:  0 <-> 1\r\n",
      "virtual bool g2o::OptimizableGraph::load(std::istream&): Unable to find vertices for edge EDGE_SE2 at line 3 IDs:  1 <-> 2\r\n",
      "virtual bool g2o::OptimizableGraph::load(std::istream&): Unable to find vertices for edge EDGE_SE2 at line 4 IDs:  2 <-> 3\r\n",
      "virtual bool g2o::OptimizableGraph::load(std::istream&): Unable to find vertices for edge EDGE_SE2 at line 5 IDs:  3 <-> 4\r\n",
      "virtual bool g2o::OptimizableGraph::load(std::istream&): Unable to find vertices for edge EDGE_SE2 at line 6 IDs:  4 <-> 5\r\n",
      "virtual bool g2o::OptimizableGraph::load(std::istream&): Unable to find vertices for edge EDGE_SE2 at line 7 IDs:  5 <-> 6\r\n",
      "virtual bool g2o::OptimizableGraph::load(std::istream&): Unable to find vertices for edge EDGE_SE2 at line 8 IDs:  6 <-> 7\r\n",
      "virtual bool g2o::OptimizableGraph::load(std::istream&): Unable to find vertices for edge EDGE_SE2 at line 9 IDs:  7 <-> 8\r\n",
      "virtual bool g2o::OptimizableGraph::load(std::istream&): Unable to find vertices for edge EDGE_SE2 at line 10 IDs:  8 <-> 9\r\n",
      "virtual bool g2o::OptimizableGraph::load(std::istream&): Unable to find vertices for edge EDGE_SE2 at line 11 IDs:  9 <-> 10\r\n",
      "virtual bool g2o::OptimizableGraph::load(std::istream&): Unable to find vertices for edge EDGE_SE2 at line 12 IDs:  10 <-> 11\r\n",
      "virtual bool g2o::OptimizableGraph::load(std::istream&): Unable to find vertices for edge EDGE_SE2 at line 13 IDs:  11 <-> 12\r\n",
      "virtual bool g2o::OptimizableGraph::load(std::istream&): Unable to find vertices for edge EDGE_SE2 at line 14 IDs:  12 <-> 13\r\n",
      "virtual bool g2o::OptimizableGraph::load(std::istream&): Unable to find vertices for edge EDGE_SE2 at line 15 IDs:  13 <-> 14\r\n",
      "virtual bool g2o::OptimizableGraph::load(std::istream&): Unable to find vertices for edge EDGE_SE2 at line 16 IDs:  14 <-> 15\r\n",
      "virtual bool g2o::OptimizableGraph::load(std::istream&): Unable to find vertices for edge EDGE_SE2 at line 17 IDs:  15 <-> 16\r\n",
      "virtual bool g2o::OptimizableGraph::load(std::istream&): Unable to find vertices for edge EDGE_SE2 at line 18 IDs:  16 <-> 17\r\n",
      "virtual bool g2o::OptimizableGraph::load(std::istream&): Unable to find vertices for edge EDGE_SE2 at line 19 IDs:  17 <-> 18\r\n",
      "virtual bool g2o::OptimizableGraph::load(std::istream&): Unable to find vertices for edge EDGE_SE2 at line 20 IDs:  18 <-> 19\r\n",
      "virtual bool g2o::OptimizableGraph::load(std::istream&): Unable to find vertices for edge EDGE_SE2 at line 21 IDs:  19 <-> 20\r\n",
      "virtual bool g2o::OptimizableGraph::load(std::istream&): Unable to find vertices for edge EDGE_SE2 at line 22 IDs:  20 <-> 21\r\n",
      "virtual bool g2o::OptimizableGraph::load(std::istream&): Unable to find vertices for edge EDGE_SE2 at line 23 IDs:  21 <-> 22\r\n",
      "virtual bool g2o::OptimizableGraph::load(std::istream&): Unable to find vertices for edge EDGE_SE2 at line 24 IDs:  22 <-> 23\r\n",
      "virtual bool g2o::OptimizableGraph::load(std::istream&): Unable to find vertices for edge EDGE_SE2 at line 25 IDs:  23 <-> 24\r\n",
      "virtual bool g2o::OptimizableGraph::load(std::istream&): Unable to find vertices for edge EDGE_SE2 at line 26 IDs:  24 <-> 25\r\n",
      "virtual bool g2o::OptimizableGraph::load(std::istream&): Unable to find vertices for edge EDGE_SE2 at line 27 IDs:  25 <-> 26\r\n",
      "virtual bool g2o::OptimizableGraph::load(std::istream&): Unable to find vertices for edge EDGE_SE2 at line 28 IDs:  26 <-> 27\r\n",
      "virtual bool g2o::OptimizableGraph::load(std::istream&): Unable to find vertices for edge EDGE_SE2 at line 29 IDs:  27 <-> 28\r\n",
      "virtual bool g2o::OptimizableGraph::load(std::istream&): Unable to find vertices for edge EDGE_SE2 at line 30 IDs:  28 <-> 29\r\n",
      "virtual bool g2o::OptimizableGraph::load(std::istream&): Unable to find vertices for edge EDGE_SE2 at line 31 IDs:  29 <-> 30\r\n",
      "virtual bool g2o::OptimizableGraph::load(std::istream&): Unable to find vertices for edge EDGE_SE2 at line 32 IDs:  30 <-> 31\r\n",
      "virtual bool g2o::OptimizableGraph::load(std::istream&): Unable to find vertices for edge EDGE_SE2 at line 33 IDs:  31 <-> 32\r\n",
      "virtual bool g2o::OptimizableGraph::load(std::istream&): Unable to find vertices for edge EDGE_SE2 at line 34 IDs:  32 <-> 33\r\n",
      "virtual bool g2o::OptimizableGraph::load(std::istream&): Unable to find vertices for edge EDGE_SE2 at line 35 IDs:  33 <-> 34\r\n",
      "virtual bool g2o::OptimizableGraph::load(std::istream&): Unable to find vertices for edge EDGE_SE2 at line 36 IDs:  34 <-> 35\r\n",
      "virtual bool g2o::OptimizableGraph::load(std::istream&): Unable to find vertices for edge EDGE_SE2 at line 37 IDs:  35 <-> 36\r\n",
      "virtual bool g2o::OptimizableGraph::load(std::istream&): Unable to find vertices for edge EDGE_SE2 at line 38 IDs:  36 <-> 37\r\n",
      "virtual bool g2o::OptimizableGraph::load(std::istream&): Unable to find vertices for edge EDGE_SE2 at line 39 IDs:  37 <-> 38\r\n",
      "virtual bool g2o::OptimizableGraph::load(std::istream&): Unable to find vertices for edge EDGE_SE2 at line 40 IDs:  38 <-> 39\r\n",
      "virtual bool g2o::OptimizableGraph::load(std::istream&): Unable to find vertices for edge EDGE_SE2 at line 41 IDs:  39 <-> 40\r\n",
      "virtual bool g2o::OptimizableGraph::load(std::istream&): Unable to find vertices for edge EDGE_SE2 at line 42 IDs:  40 <-> 41\r\n",
      "virtual bool g2o::OptimizableGraph::load(std::istream&): Unable to find vertices for edge EDGE_SE2 at line 43 IDs:  41 <-> 42\r\n",
      "virtual bool g2o::OptimizableGraph::load(std::istream&): Unable to find vertices for edge EDGE_SE2 at line 44 IDs:  42 <-> 43\r\n",
      "virtual bool g2o::OptimizableGraph::load(std::istream&): Unable to find vertices for edge EDGE_SE2 at line 45 IDs:  43 <-> 44\r\n",
      "virtual bool g2o::OptimizableGraph::load(std::istream&): Unable to find vertices for edge EDGE_SE2 at line 46 IDs:  44 <-> 45\r\n",
      "virtual bool g2o::OptimizableGraph::load(std::istream&): Unable to find vertices for edge EDGE_SE2 at line 47 IDs:  45 <-> 46\r\n",
      "virtual bool g2o::OptimizableGraph::load(std::istream&): Unable to find vertices for edge EDGE_SE2 at line 48 IDs:  46 <-> 47\r\n",
      "virtual bool g2o::OptimizableGraph::load(std::istream&): Unable to find vertices for edge EDGE_SE2 at line 49 IDs:  47 <-> 48\r\n",
      "virtual bool g2o::OptimizableGraph::load(std::istream&): Unable to find vertices for edge EDGE_SE2 at line 50 IDs:  48 <-> 49\r\n",
      "virtual bool g2o::OptimizableGraph::load(std::istream&): Unable to find vertices for edge EDGE_SE2 at line 51 IDs:  49 <-> 50\r\n",
      "virtual bool g2o::OptimizableGraph::load(std::istream&): Unable to find vertices for edge EDGE_SE2 at line 52 IDs:  50 <-> 51\r\n",
      "virtual bool g2o::OptimizableGraph::load(std::istream&): Unable to find vertices for edge EDGE_SE2 at line 53 IDs:  51 <-> 52\r\n",
      "virtual bool g2o::OptimizableGraph::load(std::istream&): Unable to find vertices for edge EDGE_SE2 at line 54 IDs:  52 <-> 53\r\n",
      "virtual bool g2o::OptimizableGraph::load(std::istream&): Unable to find vertices for edge EDGE_SE2 at line 55 IDs:  53 <-> 54\r\n",
      "virtual bool g2o::OptimizableGraph::load(std::istream&): Unable to find vertices for edge EDGE_SE2 at line 56 IDs:  54 <-> 55\r\n",
      "virtual bool g2o::OptimizableGraph::load(std::istream&): Unable to find vertices for edge EDGE_SE2 at line 57 IDs:  55 <-> 56\r\n",
      "virtual bool g2o::OptimizableGraph::load(std::istream&): Unable to find vertices for edge EDGE_SE2 at line 58 IDs:  56 <-> 57\r\n",
      "virtual bool g2o::OptimizableGraph::load(std::istream&): Unable to find vertices for edge EDGE_SE2 at line 59 IDs:  57 <-> 58\r\n",
      "virtual bool g2o::OptimizableGraph::load(std::istream&): Unable to find vertices for edge EDGE_SE2 at line 60 IDs:  58 <-> 59\r\n",
      "virtual bool g2o::OptimizableGraph::load(std::istream&): Unable to find vertices for edge EDGE_SE2 at line 61 IDs:  59 <-> 60\r\n",
      "virtual bool g2o::OptimizableGraph::load(std::istream&): Unable to find vertices for edge EDGE_SE2 at line 62 IDs:  60 <-> 61\r\n",
      "virtual bool g2o::OptimizableGraph::load(std::istream&): Unable to find vertices for edge EDGE_SE2 at line 63 IDs:  61 <-> 62\r\n",
      "virtual bool g2o::OptimizableGraph::load(std::istream&): Unable to find vertices for edge EDGE_SE2 at line 64 IDs:  62 <-> 63\r\n",
      "virtual bool g2o::OptimizableGraph::load(std::istream&): Unable to find vertices for edge EDGE_SE2 at line 65 IDs:  63 <-> 64\r\n",
      "virtual bool g2o::OptimizableGraph::load(std::istream&): Unable to find vertices for edge EDGE_SE2 at line 66 IDs:  64 <-> 65\r\n",
      "virtual bool g2o::OptimizableGraph::load(std::istream&): Unable to find vertices for edge EDGE_SE2 at line 67 IDs:  65 <-> 66\r\n",
      "virtual bool g2o::OptimizableGraph::load(std::istream&): Unable to find vertices for edge EDGE_SE2 at line 68 IDs:  66 <-> 67\r\n",
      "virtual bool g2o::OptimizableGraph::load(std::istream&): Unable to find vertices for edge EDGE_SE2 at line 69 IDs:  67 <-> 68\r\n",
      "virtual bool g2o::OptimizableGraph::load(std::istream&): Unable to find vertices for edge EDGE_SE2 at line 70 IDs:  68 <-> 69\r\n",
      "virtual bool g2o::OptimizableGraph::load(std::istream&): Unable to find vertices for edge EDGE_SE2 at line 71 IDs:  69 <-> 70\r\n",
      "virtual bool g2o::OptimizableGraph::load(std::istream&): Unable to find vertices for edge EDGE_SE2 at line 72 IDs:  70 <-> 71\r\n",
      "virtual bool g2o::OptimizableGraph::load(std::istream&): Unable to find vertices for edge EDGE_SE2 at line 73 IDs:  71 <-> 72\r\n",
      "virtual bool g2o::OptimizableGraph::load(std::istream&): Unable to find vertices for edge EDGE_SE2 at line 74 IDs:  72 <-> 73\r\n",
      "virtual bool g2o::OptimizableGraph::load(std::istream&): Unable to find vertices for edge EDGE_SE2 at line 75 IDs:  73 <-> 74\r\n",
      "virtual bool g2o::OptimizableGraph::load(std::istream&): Unable to find vertices for edge EDGE_SE2 at line 76 IDs:  74 <-> 75\r\n",
      "virtual bool g2o::OptimizableGraph::load(std::istream&): Unable to find vertices for edge EDGE_SE2 at line 77 IDs:  75 <-> 76\r\n",
      "virtual bool g2o::OptimizableGraph::load(std::istream&): Unable to find vertices for edge EDGE_SE2 at line 78 IDs:  76 <-> 77\r\n",
      "virtual bool g2o::OptimizableGraph::load(std::istream&): Unable to find vertices for edge EDGE_SE2 at line 79 IDs:  77 <-> 78\r\n",
      "virtual bool g2o::OptimizableGraph::load(std::istream&): Unable to find vertices for edge EDGE_SE2 at line 80 IDs:  78 <-> 79\r\n",
      "virtual bool g2o::OptimizableGraph::load(std::istream&): Unable to find vertices for edge EDGE_SE2 at line 81 IDs:  79 <-> 80\r\n",
      "virtual bool g2o::OptimizableGraph::load(std::istream&): Unable to find vertices for edge EDGE_SE2 at line 82 IDs:  80 <-> 81\r\n",
      "virtual bool g2o::OptimizableGraph::load(std::istream&): Unable to find vertices for edge EDGE_SE2 at line 83 IDs:  81 <-> 82\r\n",
      "virtual bool g2o::OptimizableGraph::load(std::istream&): Unable to find vertices for edge EDGE_SE2 at line 84 IDs:  82 <-> 83\r\n",
      "virtual bool g2o::OptimizableGraph::load(std::istream&): Unable to find vertices for edge EDGE_SE2 at line 85 IDs:  83 <-> 84\r\n",
      "virtual bool g2o::OptimizableGraph::load(std::istream&): Unable to find vertices for edge EDGE_SE2 at line 86 IDs:  84 <-> 85\r\n",
      "virtual bool g2o::OptimizableGraph::load(std::istream&): Unable to find vertices for edge EDGE_SE2 at line 87 IDs:  85 <-> 86\r\n",
      "virtual bool g2o::OptimizableGraph::load(std::istream&): Unable to find vertices for edge EDGE_SE2 at line 88 IDs:  86 <-> 87\r\n",
      "virtual bool g2o::OptimizableGraph::load(std::istream&): Unable to find vertices for edge EDGE_SE2 at line 89 IDs:  87 <-> 88\r\n",
      "virtual bool g2o::OptimizableGraph::load(std::istream&): Unable to find vertices for edge EDGE_SE2 at line 90 IDs:  88 <-> 89\r\n",
      "virtual bool g2o::OptimizableGraph::load(std::istream&): Unable to find vertices for edge EDGE_SE2 at line 91 IDs:  89 <-> 90\r\n",
      "virtual bool g2o::OptimizableGraph::load(std::istream&): Unable to find vertices for edge EDGE_SE2 at line 92 IDs:  90 <-> 91\r\n",
      "virtual bool g2o::OptimizableGraph::load(std::istream&): Unable to find vertices for edge EDGE_SE2 at line 93 IDs:  91 <-> 92\r\n",
      "virtual bool g2o::OptimizableGraph::load(std::istream&): Unable to find vertices for edge EDGE_SE2 at line 94 IDs:  92 <-> 93\r\n",
      "virtual bool g2o::OptimizableGraph::load(std::istream&): Unable to find vertices for edge EDGE_SE2 at line 95 IDs:  93 <-> 94\r\n",
      "virtual bool g2o::OptimizableGraph::load(std::istream&): Unable to find vertices for edge EDGE_SE2 at line 96 IDs:  94 <-> 95\r\n",
      "virtual bool g2o::OptimizableGraph::load(std::istream&): Unable to find vertices for edge EDGE_SE2 at line 97 IDs:  95 <-> 96\r\n",
      "virtual bool g2o::OptimizableGraph::load(std::istream&): Unable to find vertices for edge EDGE_SE2 at line 98 IDs:  96 <-> 97\r\n",
      "virtual bool g2o::OptimizableGraph::load(std::istream&): Unable to find vertices for edge EDGE_SE2 at line 99 IDs:  97 <-> 98\r\n",
      "virtual bool g2o::OptimizableGraph::load(std::istream&): Unable to find vertices for edge EDGE_SE2 at line 100 IDs:  98 <-> 99\r\n",
      "virtual bool g2o::OptimizableGraph::load(std::istream&): Unable to find vertices for edge EDGE_SE2 at line 101 IDs:  99 <-> 100\r\n",
      "virtual bool g2o::OptimizableGraph::load(std::istream&): Unable to find vertices for edge EDGE_SE2 at line 102 IDs:  100 <-> 101\r\n",
      "virtual bool g2o::OptimizableGraph::load(std::istream&): Unable to find vertices for edge EDGE_SE2 at line 103 IDs:  101 <-> 102\r\n",
      "virtual bool g2o::OptimizableGraph::load(std::istream&): Unable to find vertices for edge EDGE_SE2 at line 104 IDs:  102 <-> 103\r\n",
      "virtual bool g2o::OptimizableGraph::load(std::istream&): Unable to find vertices for edge EDGE_SE2 at line 105 IDs:  103 <-> 104\r\n",
      "virtual bool g2o::OptimizableGraph::load(std::istream&): Unable to find vertices for edge EDGE_SE2 at line 106 IDs:  104 <-> 105\r\n",
      "virtual bool g2o::OptimizableGraph::load(std::istream&): Unable to find vertices for edge EDGE_SE2 at line 107 IDs:  105 <-> 106\r\n",
      "virtual bool g2o::OptimizableGraph::load(std::istream&): Unable to find vertices for edge EDGE_SE2 at line 108 IDs:  106 <-> 107\r\n",
      "virtual bool g2o::OptimizableGraph::load(std::istream&): Unable to find vertices for edge EDGE_SE2 at line 109 IDs:  107 <-> 108\r\n",
      "virtual bool g2o::OptimizableGraph::load(std::istream&): Unable to find vertices for edge EDGE_SE2 at line 110 IDs:  108 <-> 109\r\n",
      "virtual bool g2o::OptimizableGraph::load(std::istream&): Unable to find vertices for edge EDGE_SE2 at line 111 IDs:  109 <-> 110\r\n",
      "virtual bool g2o::OptimizableGraph::load(std::istream&): Unable to find vertices for edge EDGE_SE2 at line 112 IDs:  110 <-> 111\r\n",
      "virtual bool g2o::OptimizableGraph::load(std::istream&): Unable to find vertices for edge EDGE_SE2 at line 113 IDs:  111 <-> 112\r\n",
      "virtual bool g2o::OptimizableGraph::load(std::istream&): Unable to find vertices for edge EDGE_SE2 at line 114 IDs:  112 <-> 113\r\n",
      "virtual bool g2o::OptimizableGraph::load(std::istream&): Unable to find vertices for edge EDGE_SE2 at line 115 IDs:  113 <-> 114\r\n",
      "virtual bool g2o::OptimizableGraph::load(std::istream&): Unable to find vertices for edge EDGE_SE2 at line 116 IDs:  114 <-> 115\r\n",
      "virtual bool g2o::OptimizableGraph::load(std::istream&): Unable to find vertices for edge EDGE_SE2 at line 117 IDs:  115 <-> 116\r\n",
      "virtual bool g2o::OptimizableGraph::load(std::istream&): Unable to find vertices for edge EDGE_SE2 at line 118 IDs:  116 <-> 117\r\n",
      "virtual bool g2o::OptimizableGraph::load(std::istream&): Unable to find vertices for edge EDGE_SE2 at line 119 IDs:  117 <-> 118\r\n",
      "virtual bool g2o::OptimizableGraph::load(std::istream&): Unable to find vertices for edge EDGE_SE2 at line 120 IDs:  118 <-> 119\r\n",
      "virtual bool g2o::OptimizableGraph::load(std::istream&): Unable to find vertices for edge EDGE_SE2 at line 122 IDs:  0 <-> 80\r\n",
      "virtual bool g2o::OptimizableGraph::load(std::istream&): Unable to find vertices for edge EDGE_SE2 at line 123 IDs:  2 <-> 82\r\n",
      "virtual bool g2o::OptimizableGraph::load(std::istream&): Unable to find vertices for edge EDGE_SE2 at line 124 IDs:  4 <-> 84\r\n",
      "virtual bool g2o::OptimizableGraph::load(std::istream&): Unable to find vertices for edge EDGE_SE2 at line 125 IDs:  6 <-> 86\r\n",
      "virtual bool g2o::OptimizableGraph::load(std::istream&): Unable to find vertices for edge EDGE_SE2 at line 126 IDs:  8 <-> 88\r\n",
      "virtual bool g2o::OptimizableGraph::load(std::istream&): Unable to find vertices for edge EDGE_SE2 at line 127 IDs:  10 <-> 90\r\n",
      "virtual bool g2o::OptimizableGraph::load(std::istream&): Unable to find vertices for edge EDGE_SE2 at line 128 IDs:  12 <-> 92\r\n",
      "virtual bool g2o::OptimizableGraph::load(std::istream&): Unable to find vertices for edge EDGE_SE2 at line 129 IDs:  14 <-> 94\r\n",
      "virtual bool g2o::OptimizableGraph::load(std::istream&): Unable to find vertices for edge EDGE_SE2 at line 130 IDs:  16 <-> 96\r\n",
      "virtual bool g2o::OptimizableGraph::load(std::istream&): Unable to find vertices for edge EDGE_SE2 at line 131 IDs:  18 <-> 98\r\n",
      "virtual bool g2o::OptimizableGraph::load(std::istream&): Unable to find vertices for edge EDGE_SE2 at line 132 IDs:  20 <-> 100\r\n",
      "virtual bool g2o::OptimizableGraph::load(std::istream&): Unable to find vertices for edge EDGE_SE2 at line 133 IDs:  22 <-> 102\r\n",
      "virtual bool g2o::OptimizableGraph::load(std::istream&): Unable to find vertices for edge EDGE_SE2 at line 134 IDs:  24 <-> 104\r\n",
      "virtual bool g2o::OptimizableGraph::load(std::istream&): Unable to find vertices for edge EDGE_SE2 at line 135 IDs:  26 <-> 106\r\n",
      "virtual bool g2o::OptimizableGraph::load(std::istream&): Unable to find vertices for edge EDGE_SE2 at line 136 IDs:  28 <-> 108\r\n",
      "virtual bool g2o::OptimizableGraph::load(std::istream&): Unable to find vertices for edge EDGE_SE2 at line 137 IDs:  30 <-> 110\r\n",
      "virtual bool g2o::OptimizableGraph::load(std::istream&): Unable to find vertices for edge EDGE_SE2 at line 138 IDs:  32 <-> 112\r\n",
      "virtual bool g2o::OptimizableGraph::load(std::istream&): Unable to find vertices for edge EDGE_SE2 at line 139 IDs:  34 <-> 114\r\n",
      "virtual bool g2o::OptimizableGraph::load(std::istream&): Unable to find vertices for edge EDGE_SE2 at line 140 IDs:  36 <-> 116\r\n",
      "virtual bool g2o::OptimizableGraph::load(std::istream&): Unable to find vertices for edge EDGE_SE2 at line 141 IDs:  38 <-> 118\r\n",
      "Loaded 1 vertices\r\n",
      "Loaded 0 edges\r\n",
      "# graph is fixed by priors or already fixed vertex\r\n",
      "virtual bool g2o::SparseOptimizer::initializeOptimization(g2o::HyperGraph::VertexSet&, int): Attempt to initialize an empty graph\r\n",
      "Initial chi2 = 0.000000\r\n",
      "virtual int g2o::SparseOptimizer::optimize(int, bool): 0 vertices to optimize, maybe forgot to call initializeOptimization()\r\n",
      "Cholesky failed, result might be invalid\r\n",
      "saving ../results/opt-g2o.g2o ... done.\r\n"
     ]
    },
    {
     "name": "stdout",
     "output_type": "stream",
     "text": [
      "# Using EigenSparseCholesky poseDim -1 landMarkDim -1 blockordering 1\n",
      "Read input from ../data/intel.g2o\n",
      "Loaded 1228 vertices\n",
      "Loaded 1483 edges\n",
      "# graph is fixed by node 1227\n",
      "Initial chi2 = 5149721.044789\n",
      "saving ../results/opt-intel.g2o ... done.\n",
      "# Using EigenSparseCholesky poseDim -1 landMarkDim -1 blockordering 1\n",
      "Read input from ../data/sphere.g2o\n",
      "Loaded 2200 vertices\n",
      "Loaded 8647 edges\n",
      "# graph is fixed by node 2199\n",
      "Initial chi2 = 176631217.870692\n",
      "saving ../results/opt-sphere.g2o ... done.\n"
     ]
    }
   ],
   "source": [
    "!cp ../data/edges.txt ../data/edges.g2o\n",
    "!g2o -o ../results/opt-g2o.g2o ../data/edges.g2o\n",
    "!g2o -o ../results/opt-intel.g2o ../data/intel.g2o\n",
    "!g2o -o ../results/opt-sphere.g2o ../data/sphere.g2o"
   ]
  },
  {
   "cell_type": "code",
   "execution_count": 17,
   "id": "b319f5ee",
   "metadata": {},
   "outputs": [],
   "source": [
    "def readVertex(fileName):\n",
    "    f = open(fileName, 'r')\n",
    "    A = f.readlines()\n",
    "    f.close()\n",
    "\n",
    "    i_arr = []\n",
    "    x_arr = []\n",
    "    y_arr = []\n",
    "    theta_arr = []\n",
    "\n",
    "    for line in A:\n",
    "        if \"VERTEX_SE2\" in line:\n",
    "            (ver, ind, x, y, theta) = line.split()\n",
    "            i_arr.append(int(ind))\n",
    "            x_arr.append(float(x))\n",
    "            y_arr.append(float(y))\n",
    "            theta_arr.append(float(theta.rstrip('\\n')))\n",
    "\n",
    "    return jnp.array([i_arr, x_arr, y_arr, theta_arr])\n",
    "\n",
    "def draw(X, Y, THETA):\n",
    "    ax = plt.subplot(111)\n",
    "    ax.plot(X, Y, 'ro')\n",
    "    ax.plot(X, Y, 'c-')\n",
    "\n",
    "    for i in range(len(THETA)):\n",
    "        x2 = 0.25*math.cos(THETA[i]) + X[i]\n",
    "        y2 = 0.25*math.sin(THETA[i]) + Y[i]\n",
    "        plt.plot([X[i], x2], [Y[i], y2], 'g->')\n",
    "        \n",
    "    plt.show()"
   ]
  },
  {
   "cell_type": "code",
   "execution_count": 18,
   "id": "3c68b6d5",
   "metadata": {},
   "outputs": [
    {
     "data": {
      "image/png": "[encoded data removed]",
      "text/plain": [
       "<Figure size 432x288 with 1 Axes>"
      ]
     },
     "metadata": {
      "needs_background": "light"
     },
     "output_type": "display_data"
    },
    {
     "data": {
      "image/png": "[encoded data removed]",
      "text/plain": [
       "<Figure size 432x288 with 1 Axes>"
      ]
     },
     "metadata": {
      "needs_background": "light"
     },
     "output_type": "display_data"
    },
    {
     "data": {
      "image/png": "[encoded data removed]",
      "text/plain": [
       "<Figure size 432x288 with 1 Axes>"
      ]
     },
     "metadata": {
      "needs_background": "light"
     },
     "output_type": "display_data"
    }
   ],
   "source": [
    "import numpy as np\n",
    "import jax.numpy as jnp\n",
    "import matplotlib.pyplot as plt\n",
    "import math\n",
    "\n",
    "verts = np.array(readVertex('../results/opt-g2o.g2o'))\n",
    "draw(verts[1, :], verts[2, :], verts[3, :])\n",
    "\n",
    "Iverts = np.array(readVertex('../results/opt-intel.g2o'))\n",
    "draw(Iverts[1, :], Iverts[2, :], Iverts[3, :])\n",
    "\n",
    "Sverts = np.array(readVertex('../results/opt-sphere.g2o'))\n",
    "draw(Sverts[1, :], Sverts[2, :], Sverts[3, :])"
   ]
  }
 ],
 "metadata": {
  "kernelspec": {
   "display_name": "Python 3",
   "language": "python",
   "name": "python3"
  },
  "language_info": {
   "codemirror_mode": {
    "name": "ipython",
    "version": 3
   },
   "file_extension": ".py",
   "mimetype": "text/x-python",
   "name": "python",
   "nbconvert_exporter": "python",
   "pygments_lexer": "ipython3",
   "version": "3.8.8"
  }
 },
 "nbformat": 4,
 "nbformat_minor": 5
}
