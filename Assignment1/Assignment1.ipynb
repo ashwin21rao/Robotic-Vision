{
 "cells": [
  {
   "cell_type": "markdown",
   "id": "4687d929",
   "metadata": {},
   "source": [
    "# Assignment-1: Transformations and representations\n",
    "\n",
    "Team Name: Whatevs\n",
    "\n",
    "Roll number: 2019101017, 2019101049"
   ]
  },
  {
   "cell_type": "markdown",
   "id": "68e7760d",
   "metadata": {},
   "source": [
    "# Instructions\n",
    "\n",
    "- Code must be written in Python in Jupyter Notebooks. We highly recommend using anaconda distribution or at the minimum, virtual environments for this assignment. See `Set Up` for detailed step-by-step instructions about the installation setup.\n",
    "- Save all your results in ```results/<question_number>/<sub_topic_number>/```\n",
    "- The **References** section provides you with important resources to solve the assignment.\n",
    "- For this assignment, you will be using Open3D extensively. Refer to [Open3D Documentation](http://www.open3d.org/docs/release/): you can use the in-built methods and **unless explicitly mentioned**, don't need to code from scratch for this assignment. \n",
    "- Make sure your code is modular since you may need to reuse parts for future assignments.\n",
    "- Answer the descriptive questions in your own words with context & clarity. Do not copy answers from online resources or lecture notes.\n",
    "- The **deadline** for this assignment is on 11/09/2021 at 11:55pm. Please note that there will be no extensions.\n",
    "- Plagiarism is **strictly prohibited**.\n"
   ]
  },
  {
   "cell_type": "markdown",
   "id": "e1182510",
   "metadata": {},
   "source": [
    "# Submission Instructions\n",
    "\n",
    "1. Make sure your code runs without any errors after reinitializing the kernel and removing all saved variables.\n",
    "2. After completing your code and saving your results, zip the folder with name as ``Team_<team_name>_MR2021_Assignment_<assignment_number>.zip``"
   ]
  },
  {
   "cell_type": "markdown",
   "id": "acbfe937",
   "metadata": {},
   "source": [
    "# Set Up\n",
    "\n",
    "We highly recommend using anaconda distribution or at the minimum, virtual environments for this assignment. All assignments will be python based, hence familiarising yourself with Python is essential.\n"
   ]
  },
  {
   "cell_type": "markdown",
   "id": "0aa39117",
   "metadata": {},
   "source": [
    "## Setting up Anaconda environment (Recommended)\n",
    "\n",
    "1. Install Anaconda or Miniconda from [here](https://docs.conda.io/projects/conda/en/latest/user-guide/install/linux.html) depending on your requirements.\n",
    "2. Now simply run `conda env create -f environment.yml` in the current folder to create an environment `mr_assignment1` (`environment.yml` can be found in `misc/`).\n",
    "3. Activate it using `conda activate mr_assignment1`.\n",
    "\n",
    "## Setting up Virtual environment using venv\n",
    "\n",
    "You can also set up a virtual environment using venv\n",
    "\n",
    "1. Run `sudo apt-get install python3-venv` from command line.\n",
    "2. `python3 -m venv ~/virtual_env/mr_assignment1`. (you can set the environment path to anything)\n",
    "3. `source ~/virtual_env/mr_assignment1/bin/activate`\n",
    "4. `pip3 install -r requirements.txt` from the current folder (`requirements.txt` can be found in `misc/`)."
   ]
  },
  {
   "cell_type": "code",
   "execution_count": 1,
   "id": "45b1be5d",
   "metadata": {},
   "outputs": [
    {
     "name": "stdout",
     "output_type": "stream",
     "text": [
      "Jupyter environment detected. Enabling Open3D WebVisualizer.\n",
      "[Open3D INFO] WebRTC GUI backend enabled.\n",
      "[Open3D INFO] WebRTCWindowSystem: HTTP handshake server disabled.\n"
     ]
    }
   ],
   "source": [
    "import open3d as o3d\n",
    "import numpy as np\n",
    "from open3d import visualization\n",
    "import copy\n",
    "import math\n",
    "from scipy.spatial.transform import Rotation as R\n",
    "from scipy.optimize import fsolve\n",
    "import time\n",
    "\n",
    "from numpy import linalg as LA"
   ]
  },
  {
   "cell_type": "markdown",
   "id": "0bf6b61a",
   "metadata": {},
   "source": [
    "# 1. Getting started with Open3D\n",
    "\n",
    "Open3D is an open-source library that deals with 3D data, such as point clouds, mesh. We'll be using Open3D frequently as we work with point clouds. Let's start with something simple:\n",
    "\n",
    "<img src=\"misc/bunny.jpg\" alt=\"drawing\" width=\"200\"/>\n",
    "\n",
    "1. Read the Stanford Bunny file (in `data/`) given to you and visualise it using Open3D.\n",
    "2. Convert the mesh to a point cloud and change the colour of points.\n",
    "3. Set a predefined viewing angle (using Open3D) for visualization and display the axes while plotting.\n",
    "4. Scale, Transform, and Rotate the rabbit (visualise after each step).\n",
    "5. Save the point cloud as bunny.pcd."
   ]
  },
  {
   "cell_type": "markdown",
   "id": "e8355f68",
   "metadata": {},
   "source": [
    "### 1.1"
   ]
  },
  {
   "cell_type": "code",
   "execution_count": 2,
   "id": "90d1c6ec",
   "metadata": {},
   "outputs": [],
   "source": [
    "mesh = o3d.io.read_triangle_mesh(\"data/bunny.ply\")\n",
    "mesh.compute_vertex_normals()\n",
    "visualization.draw_geometries([mesh], mesh_show_back_face=True)"
   ]
  },
  {
   "cell_type": "markdown",
   "id": "1a8d4745",
   "metadata": {},
   "source": [
    "### 1.2"
   ]
  },
  {
   "cell_type": "code",
   "execution_count": 4,
   "id": "d1870103",
   "metadata": {},
   "outputs": [
    {
     "name": "stdout",
     "output_type": "stream",
     "text": [
      "<class 'open3d.cpu.pybind.geometry.PointCloud'>\n"
     ]
    }
   ],
   "source": [
    "pcd = mesh.sample_points_uniformly(number_of_points=10000)\n",
    "pcd.paint_uniform_color([1, 0.706, 0])\n",
    "visualization.draw_geometries([pcd])"
   ]
  },
  {
   "cell_type": "markdown",
   "id": "fd274dad",
   "metadata": {},
   "source": [
    "### 1.3"
   ]
  },
  {
   "cell_type": "code",
   "execution_count": 6,
   "id": "d5aa644f",
   "metadata": {},
   "outputs": [
    {
     "name": "stdout",
     "output_type": "stream",
     "text": [
      "Field of view before changing: 60.00\n",
      "Field of view after changing: 5.00\n"
     ]
    }
   ],
   "source": [
    "def customVisual(arr, angle=0):\n",
    "    viewer = visualization.Visualizer()\n",
    "    viewer.create_window()\n",
    "    \n",
    "    for shape in arr:\n",
    "        viewer.add_geometry(shape)\n",
    "        \n",
    "    opt = viewer.get_render_option()\n",
    "    opt.show_coordinate_frame = True\n",
    "    \n",
    "    ctr = viewer.get_view_control()\n",
    "    print(\"Field of view before changing: %.2f\" % ctr.get_field_of_view())\n",
    "    ctr.change_field_of_view(step=angle/5)\n",
    "    print(\"Field of view after changing: %.2f\" % ctr.get_field_of_view())\n",
    "    \n",
    "    viewer.run()\n",
    "    viewer.destroy_window()\n",
    "\n",
    "customVisual([pcd], -60)"
   ]
  },
  {
   "cell_type": "markdown",
   "id": "18361da4",
   "metadata": {},
   "source": [
    "### 1.4 - Scaling"
   ]
  },
  {
   "cell_type": "code",
   "execution_count": 7,
   "id": "d82cb2d9",
   "metadata": {},
   "outputs": [],
   "source": [
    "scaled = copy.deepcopy(pcd).scale(2, center=pcd.get_center())\n",
    "\n",
    "#customVisual([pcd, scaled])\n",
    "o3d.visualization.draw_geometries([pcd, scaled])"
   ]
  },
  {
   "cell_type": "markdown",
   "id": "6b94b514",
   "metadata": {},
   "source": [
    "### 1.4 - Rotation"
   ]
  },
  {
   "cell_type": "code",
   "execution_count": 8,
   "id": "07d2fdb4",
   "metadata": {},
   "outputs": [],
   "source": [
    "rotated = copy.deepcopy(scaled)\n",
    "R = mesh.get_rotation_matrix_from_xyz((np.pi / 2, np.pi / 2, 0))\n",
    "rotated.rotate(R)\n",
    "\n",
    "#customVisual([scaled, rotated])\n",
    "o3d.visualization.draw_geometries([scaled, rotated])"
   ]
  },
  {
   "cell_type": "markdown",
   "id": "5f5829e0",
   "metadata": {},
   "source": [
    "### 1.4 - Translation"
   ]
  },
  {
   "cell_type": "code",
   "execution_count": 12,
   "id": "7a7f53d0",
   "metadata": {},
   "outputs": [],
   "source": [
    "trans = copy.deepcopy(rotated).translate((0.5, 0.5, 0.5))\n",
    "\n",
    "#customVisual([rotated, trans])\n",
    "o3d.visualization.draw_geometries([rotated, trans])"
   ]
  },
  {
   "cell_type": "markdown",
   "id": "4f2f4971",
   "metadata": {},
   "source": [
    "### 1.5"
   ]
  },
  {
   "cell_type": "code",
   "execution_count": 13,
   "id": "7ccafa86",
   "metadata": {},
   "outputs": [
    {
     "data": {
      "text/plain": [
       "True"
      ]
     },
     "execution_count": 13,
     "metadata": {},
     "output_type": "execute_result"
    }
   ],
   "source": [
    "o3d.io.write_point_cloud('results/1_5/bunny.pcd', trans)"
   ]
  },
  {
   "cell_type": "markdown",
   "id": "b477dcb3",
   "metadata": {},
   "source": [
    "# 2. Transformations and representations"
   ]
  },
  {
   "cell_type": "markdown",
   "id": "004e2c40",
   "metadata": {},
   "source": [
    "## a) Euler angles\n",
    "1. Write a function that returns a rotation matrix given the angles $\\alpha$, $\\beta$, and $\\gamma$ in radians (X-Y-Z)\n",
    "\n",
    "2. Solve for angles using ```fsolve from scipy``` for three initializations of your choice and compare.\n",
    "$$M(\\alpha , \\beta ,\\gamma)=\\left[\\begin{array}{rrr}0.26200263 & -0.19674724 & 0.944799 \\\\0.21984631 & 0.96542533 & 0.14007684 \\\\\n",
    "    -0.93969262 & 0.17101007 & 0.29619813\\end{array}\\right] \n",
    "$$\n",
    "\n",
    "$$N(\\alpha , \\beta ,\\gamma)=\\left[\\begin{array}{rrr}0 & -0.173648178 &  0.984807753 \\\\0 & 0.984807753 & 0.173648178 \\\\\n",
    "    -1 & 0 & 0\\end{array}\\right] \n",
    "$$\n",
    "\n",
    "3. What is a Gimbal lock? \n",
    "\n",
    "4. Show an example where a Gimbal lock occurs and visualize the Gimbal lock on the given bunny point cloud. You have to show the above by **animation** (cube rotating along each axis one by one).\n",
    "    - *Hint: Use Open3D's non-blocking visualization and discretize the rotation to simulate the animation. For example, if you want to rotate by $30^{\\circ}$ around a particular axis, do in increments of $5^{\\circ}$ 6 times to make it look like an animation.*\n"
   ]
  },
  {
   "cell_type": "markdown",
   "id": "b751f05b",
   "metadata": {},
   "source": [
    "### 2.a.1"
   ]
  },
  {
   "cell_type": "code",
   "execution_count": 27,
   "id": "9b7542db",
   "metadata": {},
   "outputs": [
    {
     "name": "stdout",
     "output_type": "stream",
     "text": [
      "Angles: [ 0.7853981633974483 ,  0 ,  1.5707963267948966 ]\n",
      "Calculated Matrix: \n",
      " [[ 6.12323400e-17 -7.07106781e-01  7.07106781e-01]\n",
      " [ 1.00000000e+00  4.32978028e-17 -4.32978028e-17]\n",
      " [ 0.00000000e+00  7.07106781e-01  7.07106781e-01]]\n",
      "Library Matrix: \n",
      " [[ 1.66533454e-16 -7.07106781e-01  7.07106781e-01]\n",
      " [ 1.00000000e+00  1.66533454e-16 -1.11022302e-16]\n",
      " [ 0.00000000e+00  7.07106781e-01  7.07106781e-01]]\n"
     ]
    }
   ],
   "source": [
    "def eulerToMat(x, y, z):\n",
    "    Rx = [[1, 0, 0],\n",
    "          [0, math.cos(x), -math.sin(x)],\n",
    "          [0, math.sin(x), math.cos(x)]\n",
    "         ]\n",
    "    Ry = [[math.cos(y), 0, math.sin(y)],\n",
    "          [0, 1, 0],\n",
    "          [-math.sin(y), 0, math.cos(y)]\n",
    "         ]\n",
    "    Rz = [[math.cos(z), -math.sin(z), 0],\n",
    "          [math.sin(z), math.cos(z), 0],\n",
    "          [0, 0, 1]\n",
    "         ]\n",
    "    \n",
    "    R = np.dot(Rz, np.dot(Ry, Rx))\n",
    "    return R\n",
    "\n",
    "x, y, z = np.pi / 4, 0, np.pi / 2\n",
    "print(\"Angles: \"\"[\", x, \", \", y, \", \", z, \"]\")\n",
    "print(\"Calculated Matrix: \\n\", eulerToMat(x, y, z))\n",
    "print(\"Library Matrix: \\n\", R.from_euler('xyz',[x, y, z]).as_matrix())\n"
   ]
  },
  {
   "cell_type": "markdown",
   "id": "8fd91a63",
   "metadata": {},
   "source": [
    "### 2.a.2"
   ]
  },
  {
   "cell_type": "code",
   "execution_count": 28,
   "id": "57f9be40",
   "metadata": {},
   "outputs": [
    {
     "name": "stdout",
     "output_type": "stream",
     "text": [
      "Matrix M\n",
      "Angles:  [0.52359878 1.22173048 0.6981317 ]\n",
      "Matrix from Angles: \n",
      " [[ 0.26200263 -0.19674724  0.944799  ]\n",
      " [ 0.21984631  0.96542534  0.14007684]\n",
      " [-0.93969262  0.17101007  0.29619813]]\n",
      "\n",
      "Matrix N\n",
      "Angles:  [-1.74532926e-01  1.57079633e+00  8.07793567e-28]\n",
      "Matrix from Angles: \n",
      " [[ 6.12323400e-17 -1.73648178e-01  9.84807753e-01]\n",
      " [ 4.94630903e-44  9.84807753e-01  1.73648178e-01]\n",
      " [-1.00000000e+00 -1.06328843e-17  6.03020831e-17]]\n"
     ]
    }
   ],
   "source": [
    "def isRotationMatrix(R):\n",
    "    dotProd = np.dot(np.transpose(R), R)\n",
    "    I = np.identity(3, dtype = R.dtype)\n",
    "    n = np.linalg.norm(I - dotProd)\n",
    "    \n",
    "    return n < 1e-6\n",
    "\n",
    "def matToAngles(est, *args):\n",
    "    R = args[0]\n",
    "    assert(isRotationMatrix(R))\n",
    "    \n",
    "    sy = math.sqrt(R[0,0] * R[0,0] +  R[1,0] * R[1,0])\n",
    "    singular = sy < 1e-6\n",
    "    \n",
    "    if not singular :\n",
    "        x = math.atan2(R[2,1] , R[2,2])\n",
    "        y = math.atan2(-R[2,0], sy)\n",
    "        z = math.atan2(R[1,0], R[0,0])\n",
    "    else :\n",
    "        x = math.atan2(-R[1,2], R[1,1])\n",
    "        y = math.atan2(-R[2,0], sy)\n",
    "        z = 0\n",
    "        \n",
    "    return np.array(est - [x, y, z])\n",
    "\n",
    "rot = np.array([[0.26200263, -0.19674724, 0.944799],\n",
    "                [0.21984631, 0.96542533, 0.14007684],\n",
    "                [-0.93969262, 0.17101007, 0.29619813]])\n",
    "ans = fsolve(matToAngles, [1, 1, 1], args=(rot))\n",
    "print(\"Matrix M\")\n",
    "print(\"Angles: \", ans)\n",
    "print(\"Matrix from Angles: \\n\", eulerToMat(ans[0], ans[1], ans[2]))\n",
    "\n",
    "\n",
    "rot2 = np.array([[0, -0.173648178, 0.984807753],\n",
    "                [0, 0.9848077530, 0.173648178],\n",
    "                [-1, 0, 0]])\n",
    "ans2 = fsolve(matToAngles, [1, 1, 1], args=(rot2))\n",
    "print(\"\\nMatrix N\")\n",
    "print(\"Angles: \", ans2)\n",
    "print(\"Matrix from Angles: \\n\", eulerToMat(ans2[0], ans2[1], ans2[2]))"
   ]
  },
  {
   "cell_type": "markdown",
   "id": "f0de3d36",
   "metadata": {},
   "source": [
    "### 2.a.3\n",
    "\n",
    "It is the phenomenon where rotation about one axis is equivalent to rotating about the other axis before the alignment of the two axes in a parallel direction which itself occurs due to a rotation about the third axis, in the Euler convention. This results in the loss of 1 degree of freedom as the net rotation can be represented by rotations about 2 axes instead of 3.\n",
    "For example, in the Euler convention, rotation about the Z axis is the same as a previous rotation about the X axis before the rotation about the Y axis that aligns the X and Z axes."
   ]
  },
  {
   "cell_type": "markdown",
   "id": "72d76e3c",
   "metadata": {},
   "source": [
    "### 2.a.4\n",
    "\n",
    "Here we visualize a Gimbal Lock by showing that the same 3D rotation can be achieved by using rotations about just 2 axes instead of 3. We rotate the 1st object about the X and Y axes, the 2nd about the Y and Z axes but with the sign reversed for the Z axis rotation and the 3rd about all 3 axes. Then to confirm that all 3 have the same orientation, we translate them so that their centres overlap and see that they are perfect fits with each other."
   ]
  },
  {
   "cell_type": "code",
   "execution_count": 29,
   "id": "650eefa0",
   "metadata": {},
   "outputs": [],
   "source": [
    "pcd = o3d.io.read_point_cloud('results/1_5/bunny.pcd')\n",
    "step = 0.5\n",
    "pcds = [copy.deepcopy(pcd).translate((-step, 0, 0)), pcd, copy.deepcopy(pcd).translate((step, 0, 0))]\n",
    "rots = np.multiply([[45, 90, 0], [0, 90, -45], [22.5, 90, -22.5]], np.pi / 180)\n",
    "\n",
    "viewer = visualization.Visualizer()\n",
    "viewer.create_window()    \n",
    "for shape in pcds:\n",
    "    viewer.add_geometry(shape)        \n",
    "\n",
    "def rotAnim(viewer, pcd, netRot, divs=100):\n",
    "    rot = tuple(np.multiply(netRot, 1 / divs))\n",
    "    \n",
    "    for axis in range(len(rot)):\n",
    "        if not rot[axis]:\n",
    "            continue\n",
    "        \n",
    "        rotvec = [0, 0, 0]\n",
    "        rotvec[axis] = rot[axis]\n",
    "        R = pcd.get_rotation_matrix_from_xyz(rotvec)\n",
    "        \n",
    "        for i in range(divs):    \n",
    "            pcd.rotate(R)\n",
    "            viewer.update_geometry(pcd)\n",
    "            viewer.poll_events()\n",
    "            viewer.update_renderer()\n",
    "            \n",
    "def transAnim(viewer, pcd, divs=5):\n",
    "    for i in range(abs(divs)):\n",
    "        pcd.translate((step/divs, 0, 0))\n",
    "        viewer.update_geometry(pcd)\n",
    "        viewer.poll_events()\n",
    "        viewer.update_renderer()\n",
    "        time.sleep(1)\n",
    "\n",
    "for idx in range(len(pcds)):\n",
    "    rotAnim(viewer, pcds[idx], rots[idx])\n",
    "\n",
    "transAnim(viewer, pcds[0])\n",
    "transAnim(viewer, pcds[2], -5)\n",
    "time.sleep(2)\n",
    "\n",
    "viewer.destroy_window()    "
   ]
  },
  {
   "cell_type": "markdown",
   "id": "d73bc1b8",
   "metadata": {},
   "source": [
    "## b) Quaternions\n",
    "\n",
    "1. What makes Quaternions popular in graphics? \n",
    "2. Convert a rotation matrix to quaternion and vice versa. Do not use inbuilt libraries for this question.\n",
    "3. Perform matrix multiplication of two $\\mathcal{R}_{3 \\times 3}$ rotation matrices and perform the same transformation in the quaternion space. Verify if the final transformation obtained in both the cases are the same.\n",
    "4. Try to interpolate any 3D model (cube / bunny / not sphere obviously!!) between two rotation matrices and visualize!\n",
    "\n",
    "The above questions require you to **code your own functions** and **only verify** using inbuilt functions."
   ]
  },
  {
   "cell_type": "markdown",
   "id": "658233c8",
   "metadata": {},
   "source": [
    "### 2.b.1\n",
    "\n",
    "The primary reasons why Quaternions are preferred in computer graphics are:\n",
    "1. Matrix rotations suffer from Gimbal Locks.\n",
    "2. Quaternions consume less memory and are faster to compute than matrices.\n",
    "3. Quaternion interpolation using SLERP and SQUAD provide a way to interpolate smoothly between orientations in space.\n",
    "4. Rotation concatenation using quaternions is faster than combining rotations expressed in matrix form.\n",
    "5. Converting quaternions to matrices is slightly faster than for Euler angles.\n",
    "6. Quaternions only require 4 numbers (3 if they are normalized. The Real part can be computed at run-time) to represent a rotation where a matrix requires at least 9 values."
   ]
  },
  {
   "cell_type": "markdown",
   "id": "cc5d064f",
   "metadata": {},
   "source": [
    "### 2.b.2"
   ]
  },
  {
   "cell_type": "code",
   "execution_count": 37,
   "id": "5efaac1f",
   "metadata": {},
   "outputs": [
    {
     "name": "stdout",
     "output_type": "stream",
     "text": [
      "Quaternion:  [0.70710678+0.j 0.        +0.j 0.        +0.j 0.70710678+0.j]\n",
      "Matrix: \n",
      " [[ 2.22044605e-16+0.j -1.00000000e+00+0.j  0.00000000e+00+0.j]\n",
      " [ 1.00000000e+00+0.j  2.22044605e-16+0.j  0.00000000e+00+0.j]\n",
      " [ 0.00000000e+00+0.j  0.00000000e+00+0.j  1.00000000e+00+0.j]]\n"
     ]
    },
    {
     "name": "stderr",
     "output_type": "stream",
     "text": [
      "<ipython-input-35-815bd1f49f92>:46: ComplexWarning: Casting complex values to real discards the imaginary part\n",
      "  vals = np.round(np.array(vals).astype(float))\n"
     ]
    }
   ],
   "source": [
    "# q0 --> qw, q1 --> qx, q2 --> qy, q3 --> qz\n",
    "def quatToMat(q):\n",
    "    R = [[q[0] * q[0] + q[1] * q[1] - 0.5, q[1] * q[2] - q[0] * q[3], q[0] * q[2] + q[1] * q[3]],\n",
    "         [q[0] * q[3] + q[1] * q[2], q[0] * q[0] + q[2] * q[2] - 0.5, q[2] * q[3] - q[0] * q[1]],\n",
    "         [q[1] * q[3] - q[0] * q[2], q[0] * q[1] + q[2] * q[3], q[0] * q[0] + q[3] * q[3] - 0.5]\n",
    "        ]\n",
    "    R = np.multiply(R, 2)   \n",
    "    return np.array(R)\n",
    "\n",
    "def rotToQuat(R):\n",
    "    tr = R.trace()\n",
    "\n",
    "    if (tr > 0):\n",
    "        S = math.sqrt(tr + 1.0) * 2;\n",
    "        qw = 0.25 * S;\n",
    "        qx = (R[2][1] - R[1][2]) / S;\n",
    "        qy = (R[0][2] - R[2][0]) / S;\n",
    "        qz = (R[1][0] - R[0][1]) / S;\n",
    "    \n",
    "    elif ((R[0][0] > R[1][1]) and (R[0][0] > R[2][2])):\n",
    "        S = math.sqrt(1.0 + R[0][0] - R[1][1] - R[2][2]) * 2;\n",
    "        qx = 0.25 * S;\n",
    "        qw = (R[2][1] - R[1][2]) / S;\n",
    "        qz = (R[0][2] + R[2][0]) / S;\n",
    "        qy = (R[1][0] + R[0][1]) / S;\n",
    "    \n",
    "    elif (R[1][1] > R[2][2]):\n",
    "        S = math.sqrt(1.0 + R[1][1] - R[0][0] - R[2][2]) * 2;\n",
    "        qy = 0.25 * S;\n",
    "        qz = (R[2][1] + R[1][2]) / S;\n",
    "        qw = (R[0][2] - R[2][0]) / S;\n",
    "        qx = (R[1][0] + R[0][1]) / S;\n",
    "    \n",
    "    else:\n",
    "        S = math.sqrt(1.0 + R[2][2] - R[1][1] - R[0][0]) * 2;\n",
    "        qz = 0.25 * S;\n",
    "        qy = (R[2][1] + R[1][2]) / S;\n",
    "        qx = (R[0][2] + R[2][0]) / S;\n",
    "        qw = (R[1][0] - R[0][1]) / S;\n",
    "    \n",
    "    return [qw, qx, qy, qz]\n",
    "\n",
    "Rm = np.array([[0, -1, 0],\n",
    "              [1, 0, 0],\n",
    "              [0, 0, 1]])\n",
    "\n",
    "quat = matToQuat(Rm)\n",
    "retR = quatToMat(quat)\n",
    "print(\"Quaternion: \", quat)\n",
    "print(\"Matrix: \\n\", retR)"
   ]
  },
  {
   "cell_type": "markdown",
   "id": "0821911c",
   "metadata": {},
   "source": [
    "### 2.b.3"
   ]
  },
  {
   "cell_type": "code",
   "execution_count": 42,
   "id": "6009b783",
   "metadata": {},
   "outputs": [
    {
     "name": "stdout",
     "output_type": "stream",
     "text": [
      "Quaternion:  [-5.55111512e-17  9.23879532e-01 -2.77555756e-17  3.82683432e-01]\n",
      "Matrix: \n",
      " [[ 0.          0.70710678  0.        ]\n",
      " [ 1.          0.         -0.        ]\n",
      " [ 0.          0.          0.70710678]]\n"
     ]
    }
   ],
   "source": [
    "def quatMul(q0, q1):\n",
    "    x0, y0, z0, w0 = q0\n",
    "    x1, y1, z1, w1 = q1\n",
    "    return np.array([-x1 * x0 - y1 * y0 - z1 * z0 + w1 * w0,\n",
    "                     x1 * w0 - y1 * z0 + z1 * y0 + w1 * x0,\n",
    "                     x1 * z0 + y1 * w0 - z1 * x0 + w1 * y0,\n",
    "                     -x1 * y0 + y1 * x0 + z1 * w0 + w1 * z0], dtype=np.float64)\n",
    "\n",
    "A = np.array([[0, -1, 0],\n",
    "              [1, 0, 0],\n",
    "              [0, 0, 1]])\n",
    "B = np.array([[6.12323400e-17, -7.07106781e-01,  7.07106781e-01],\n",
    "              [1.00000000e+00,  4.32978028e-17, -4.32978028e-17],\n",
    "              [0.00000000e+00,  7.07106781e-01,  7.07106781e-01]])\n",
    "aq = rotToQuat(A)\n",
    "bq = rotToQuat(B)\n",
    "\n",
    "matRes = np.multiply(A, B)\n",
    "quatRes = quatMul(aq, bq)\n",
    "\n",
    "print(\"Quaternion: \", quatRes)\n",
    "print(\"Matrix: \\n\", matRes)"
   ]
  },
  {
   "cell_type": "markdown",
   "id": "6afb177f",
   "metadata": {},
   "source": [
    "### 2.b.4"
   ]
  },
  {
   "cell_type": "code",
   "execution_count": 11,
   "id": "28722ac1",
   "metadata": {},
   "outputs": [],
   "source": [
    "def interpolate(q0, q1, t):\n",
    "    quats = []\n",
    "    theta = np.dot(q0, q1)\n",
    "    \n",
    "    for i in range(t + 1):\n",
    "        s = i / t\n",
    "        slerp = np.multiply(math.sin((1 - s) * theta) / math.sin(theta), q0) + np.multiply(math.sin(s * theta) / math.sin(theta), q1)\n",
    "        quats.append(slerp)\n",
    "    \n",
    "    return quats\n",
    "\n",
    "def animate(viewer, pcd, quats):\n",
    "    for quat in quats:\n",
    "        rot = quatToMat(quat)\n",
    "        pcd.rotate(rot)\n",
    "        \n",
    "        viewer.update_geometry(pcd)\n",
    "        viewer.poll_events()\n",
    "        viewer.update_renderer()\n",
    "        \n",
    "        pcd.rotate(np.transpose(rot))\n",
    "        time.sleep(1)\n",
    "            \n",
    "A = np.identity(3)\n",
    "B = np.array([[0, -1, 0],\n",
    "              [1, 0, 0],\n",
    "              [0, 0, 1]])\n",
    "\n",
    "quats = interpolate(rotToQuat(A), rotToQuat(B), 10)\n",
    "\n",
    "pcd = o3d.io.read_point_cloud('results/1_5/bunny.pcd')\n",
    "viewer = visualization.Visualizer()\n",
    "viewer.create_window()    \n",
    "viewer.add_geometry(pcd)\n",
    "animate(viewer, pcd, quats)\n",
    "viewer.destroy_window()"
   ]
  },
  {
   "cell_type": "markdown",
   "id": "ea01e571",
   "metadata": {},
   "source": [
    "## c) Exponential maps (Bonus)\n",
    "\n",
    "1. What is the idea behind exponential map representation of rotation matrices?\n",
    "2. Perform matrix exponentiation and obtain the rotation matrix to rotate a vector $P$ around $\\omega$ for $\\theta$ seconds.\n",
    "$$\n",
    "\\omega = \\begin{bmatrix}2 \\\\ 1 \\\\ 15 \\end{bmatrix}\n",
    "$$\n",
    "\n",
    "$$\n",
    "\\theta = 4.1364\n",
    "$$\n",
    "\n",
    "3. Compute the logarithmic map (SO(3) to so(3)) of the rotation matrix to obtain the rotation vector and the angle of rotation\n",
    "$$\n",
    "\\begin{bmatrix}\n",
    "0.1 &  -0.9487 & 0.3 \\\\\n",
    "0.9487 & 0.  & -0.3162 \\\\\n",
    "0.3   &  0.3162  & 0.9 \n",
    "\\end{bmatrix}\n",
    "$$\n",
    "You can use inbuilt libraries **only to verify** your results."
   ]
  },
  {
   "cell_type": "markdown",
   "id": "21b17385",
   "metadata": {},
   "source": [
    "### 2.c.2"
   ]
  },
  {
   "cell_type": "code",
   "execution_count": 12,
   "id": "e8196140",
   "metadata": {},
   "outputs": [
    {
     "name": "stdout",
     "output_type": "stream",
     "text": [
      "Rotation Matrix: \n",
      " [[-348.09417007   15.66913969   45.50128003]\n",
      " [  -9.49048181 -352.72816347   24.84727514]\n",
      " [  47.17858813   21.49265894   -6.72332235]]\n"
     ]
    }
   ],
   "source": [
    "def findRotationMatrix(omega, theta):\n",
    "    omega_hat = np.array([[0, -omega[2], omega[1]],\n",
    "                          [omega[2], 0, -omega[0]],\n",
    "                          [-omega[1], omega[0], 0]])\n",
    "\n",
    "    mat1 = np.sin(theta) * omega_hat\n",
    "    mat2 = (1 - np.cos(theta)) * (omega_hat @ omega_hat)\n",
    "\n",
    "    return mat1 + mat2 + np.identity(3)\n",
    "\n",
    "omega = np.array([2, 1, 15])\n",
    "theta = 4.1364\n",
    "rot_mat = findRotationMatrix(omega, theta)\n",
    "print(\"Rotation Matrix: \\n\", rot_mat)"
   ]
  },
  {
   "cell_type": "markdown",
   "id": "651f7cb2",
   "metadata": {},
   "source": [
    "### 2.c.3"
   ]
  },
  {
   "cell_type": "code",
   "execution_count": 14,
   "id": "dfaa73c5",
   "metadata": {},
   "outputs": [
    {
     "name": "stdout",
     "output_type": "stream",
     "text": [
      "Theta:  1.5707963267948966\n",
      "Omega hat: \n",
      " [[ 0.     -0.9487  0.    ]\n",
      " [ 0.9487  0.     -0.3162]\n",
      " [ 0.      0.3162  0.    ]]\n",
      "Omega:  [0.3162, 0.0, 0.9487]\n"
     ]
    }
   ],
   "source": [
    "def findLogMap(mat):\n",
    "    trace = mat[0][0] + mat[1][1] + mat[2][2]\n",
    "\n",
    "    if np.array_equal(mat, np.identity(3)):\n",
    "        print(\"Omega is undefined\")\n",
    "        print(\"Theta: \\n\", 0)\n",
    "\n",
    "    elif trace == -1:\n",
    "        idx = 2 if mat[2][2] != -1 else 1 if mat[1][1] != -1 else 0\n",
    "\n",
    "        omega = np.array(mat[0][idx], mat[1][idx], mat[2][idx])\n",
    "        omega[idx][idx] += 1\n",
    "        c = 1 / ((2 * (1 + mat[idx][idx])) ** 0.5)\n",
    "        omega *= c\n",
    "\n",
    "        print(\"Omega: \\n\", omega)\n",
    "        print(\"Theta: \\n\", np.pi)\n",
    "\n",
    "    else:\n",
    "        theta = np.arccos((trace - 1) / 2)\n",
    "        c = 1 / (2 * np.sin(theta))\n",
    "        omega_hat = (mat - mat.T) * c\n",
    "        omega = [omega_hat[2][1], omega_hat[0][2], -omega_hat[0][1]]\n",
    "\n",
    "        print(\"Theta: \", theta)\n",
    "        print(\"Omega hat: \\n\", omega_hat)\n",
    "        print(\"Omega: \", omega)\n",
    "        \n",
    "mat = np.array([[0.1, -0.9487, 0.3],\n",
    "                [0.9487, 0., -0.3162],\n",
    "                [0.3, 0.3162, 0.9]])\n",
    "findLogMap(mat)"
   ]
  },
  {
   "cell_type": "markdown",
   "id": "1a11192c",
   "metadata": {},
   "source": [
    "# 3. Data representations"
   ]
  },
  {
   "cell_type": "markdown",
   "id": "a86fce35",
   "metadata": {},
   "source": [
    "## a) Octomaps\n",
    "\n",
    "1. Why is an Octomap memory efficient?\n",
    "2. When do we update an Octomap and why?\n",
    "3. When would you likely use an octomap instead of a point cloud?\n",
    " "
   ]
  },
  {
   "cell_type": "markdown",
   "id": "9c476673",
   "metadata": {},
   "source": [
    "### 3.a.1\n",
    "\n",
    "- Octomaps are implemented based on the octree, a hierarchical data structure in which each node represents the space inside a cubic volume. Each node has 8 children.\n",
    "- Octomaps do not store individual points. Instead, the points are integrated into a maximum compression occupancy map. This makes it more memory efficient.\n",
    "- The storage is compressed to a few bits per child node in the tree. We can get the node location and voxel size during traversal, and hence, this information need not be stored.\n",
    "- The splitting is done as follows:\n",
    "    - When we find partial data, that section is further split into 8 parts.\n",
    "    - If a part is completely filled, we do not need to further split it into 8 parts.\n",
    "    - If a part is completely empty, similarly, we do not need to further split it into 8 parts.\n",
    "- The above method of making child nodes only when required reduces the storage used by an octomap.\n",
    "\n",
    "### 3.a.2\n",
    "\n",
    "- A node in the octree is stable if the log-odds value of a voxel reaches lmin (lower bound) or lmax (upper bound).\n",
    "- If all children of a subtree are stable leaf nodes with the same occupancy state, then the child nodes can be pruned.\n",
    "- If new measurements contradict the state of a node in the octree, then child nodes are regenerated and updated.\n",
    "- We get high map compression using the clamping update policy.\n",
    "- When we find a partially filled node, we explore and update that node, getting finer details about the environment.\n",
    "- Since modelling and updating are done probabilistically, dynamic objects and environments can be handled directly.\n",
    "\n",
    "### 3.a.3\n",
    "\n",
    "- In point cloud representation, free space and unknown areas are not modelled. Further, point clouds cannot directly deal with sensor noise and dynamic objects and environments. Hence, point clouds are suitable in static environments with highly accurate sensors, where unknown regions are not of importance.\n",
    "- Point clouds also use more memory than octomaps. Memory consumption will increase with the number of measurements and the size of the area mapped. The absence of an upper bound on memory may cause problems.\n",
    "- Due to the above reasons, it is better to use Octomaps instead. In robot navigation in a large environment that may change dynamically, octomap representation is favourable. For example, navigation and path planning of flying drones."
   ]
  },
  {
   "cell_type": "markdown",
   "id": "11993316",
   "metadata": {},
   "source": [
    "## b) Signed Distance Functions\n",
    "\n",
    "1. How do we determine object surfaces using SDF?\n",
    "2. How do we aggregate views from multiple cameras? (just a general overview is fine)\n",
    "3. Which preserves details better? Voxels or SDF? Why?\n",
    "4. What’s an advantage of SDF over a point cloud?\n"
   ]
  },
  {
   "cell_type": "markdown",
   "id": "aa3b3b76",
   "metadata": {},
   "source": [
    "### 3.b.1\n",
    "\n",
    "- A signed distance function (SDF) is a continuous function that, given a point in 3D space, outputs its distance from the closest surface.\n",
    "- The sign indicates whether the point is inside or outside the surface.\n",
    "    - Positive: outside the surface\n",
    "    - Negative: inside the surface\n",
    "    - Zero: on the surface\n",
    "- The surface boundary is hence represented by points whose SDF values are 0.\n",
    "\n",
    "### 3.b.2\n",
    "\n",
    "- When we have views from two cameras, we get the images from the point of view of both cameras.\n",
    "- In order to aggregate views from two cameras, we first need to find the points which are common in the views of both cameras. To find these common points, we use epipolar geometry.\n",
    "- Once we have these common points, we can do 3D reconstruction or stitch images be correlating these common points.\n",
    "- The common points are found using the concept of disparity (in stereo vision) or triangulation.\n",
    "\n",
    "### 3.b.3\n",
    "\n",
    "- SDF preserves better detail than voxels.\n",
    "- In the case of voxels, at each grid position, we have only the occupancy value. We need to place the surface at the centre of each edge. Hence, the resulting shape is wavy.\n",
    "\n",
    "### 3.b.4\n",
    "\n",
    "- A point cloud is simply a collection of points. It does not store any information regarding surfaces.\n",
    "- SDFs on the other hand, describe the actual surface"
   ]
  },
  {
   "cell_type": "markdown",
   "id": "d2762255",
   "metadata": {},
   "source": [
    "# References and Resources\n",
    "\n",
    "1. Gimbal locks and quaternions: https://youtu.be/YF5ZUlKxSgE\n",
    "2. Exponential map: \n",
    "    1. 3 Blue 1 Brown: https://youtu.be/O85OWBJ2ayo\n",
    "    2. Northwestern Robotics: https://youtu.be/v_KBHaG0mas\n",
    "3. Bunny ply is taken from: http://graphics.im.ntu.edu.tw/~robin/courses/cg03/model/"
   ]
  }
 ],
 "metadata": {
  "kernelspec": {
   "display_name": "Python 3",
   "language": "python",
   "name": "python3"
  },
  "language_info": {
   "codemirror_mode": {
    "name": "ipython",
    "version": 3
   },
   "file_extension": ".py",
   "mimetype": "text/x-python",
   "name": "python",
   "nbconvert_exporter": "python",
   "pygments_lexer": "ipython3",
   "version": "3.8.8"
  }
 },
 "nbformat": 4,
 "nbformat_minor": 5
}
